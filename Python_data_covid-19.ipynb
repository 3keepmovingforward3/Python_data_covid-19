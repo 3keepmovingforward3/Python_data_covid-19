{
  "nbformat": 4,
  "nbformat_minor": 0,
  "metadata": {
    "colab": {
      "name": "Python_data_covid-19.ipynb",
      "provenance": []
    },
    "kernelspec": {
      "name": "python3",
      "display_name": "Python 3"
    }
  },
  "cells": [
    {
      "cell_type": "code",
      "metadata": {
        "id": "8esO93YLQya2",
        "colab_type": "code",
        "colab": {}
      },
      "source": [
        "import requests"
      ],
      "execution_count": 0,
      "outputs": []
    },
    {
      "cell_type": "code",
      "metadata": {
        "id": "5uza8vvZQ9tS",
        "colab_type": "code",
        "colab": {}
      },
      "source": [
        "days=str(7)\n",
        "base=\"https://phl.carto.com/api/v2/sql?q=SELECT * FROM covid_cases_by_date\"\n",
        "postbase=\"WHERE result_date >= current_date -\" + days"
      ],
      "execution_count": 0,
      "outputs": []
    },
    {
      "cell_type": "code",
      "metadata": {
        "id": "j_GTOZg5VFHk",
        "colab_type": "code",
        "colab": {}
      },
      "source": [
        "request=base+postbase"
      ],
      "execution_count": 0,
      "outputs": []
    },
    {
      "cell_type": "code",
      "metadata": {
        "id": "tqAJHFwEVynP",
        "colab_type": "code",
        "colab": {}
      },
      "source": [
        ""
      ],
      "execution_count": 0,
      "outputs": []
    }
  ]
}
